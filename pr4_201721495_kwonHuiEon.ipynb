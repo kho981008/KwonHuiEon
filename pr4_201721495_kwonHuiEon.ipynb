{
 "cells": [
  {
   "cell_type": "markdown",
   "metadata": {},
   "source": [
    "## Pandas 기초연습문제"
   ]
  },
  {
   "cell_type": "code",
   "execution_count": 1,
   "metadata": {},
   "outputs": [],
   "source": [
    "\n",
    "import pandas as pd\n",
    "#import함수로 pandas불러오기"
   ]
  },
  {
   "cell_type": "markdown",
   "metadata": {},
   "source": [
    "1. 딕셔너리를 이용하여 아래와 같은 모양이 되도록 data frame을 생성하시오.\n"
   ]
  },
  {
   "cell_type": "code",
   "execution_count": 2,
   "metadata": {},
   "outputs": [
    {
     "data": {
      "text/html": [
       "<div>\n",
       "<style scoped>\n",
       "    .dataframe tbody tr th:only-of-type {\n",
       "        vertical-align: middle;\n",
       "    }\n",
       "\n",
       "    .dataframe tbody tr th {\n",
       "        vertical-align: top;\n",
       "    }\n",
       "\n",
       "    .dataframe thead th {\n",
       "        text-align: right;\n",
       "    }\n",
       "</style>\n",
       "<table border=\"1\" class=\"dataframe\">\n",
       "  <thead>\n",
       "    <tr style=\"text-align: right;\">\n",
       "      <th></th>\n",
       "      <th>학번</th>\n",
       "      <th>이름</th>\n",
       "      <th>학과</th>\n",
       "      <th>Quiz</th>\n",
       "      <th>중간고사</th>\n",
       "    </tr>\n",
       "  </thead>\n",
       "  <tbody>\n",
       "    <tr>\n",
       "      <th>0</th>\n",
       "      <td>201524213</td>\n",
       "      <td>오지환</td>\n",
       "      <td>경영정보</td>\n",
       "      <td>15</td>\n",
       "      <td>20</td>\n",
       "    </tr>\n",
       "    <tr>\n",
       "      <th>1</th>\n",
       "      <td>201621223</td>\n",
       "      <td>박용택</td>\n",
       "      <td>경영정보</td>\n",
       "      <td>20</td>\n",
       "      <td>20</td>\n",
       "    </tr>\n",
       "    <tr>\n",
       "      <th>2</th>\n",
       "      <td>201621233</td>\n",
       "      <td>정성훈</td>\n",
       "      <td>경영정보</td>\n",
       "      <td>10</td>\n",
       "      <td>15</td>\n",
       "    </tr>\n",
       "    <tr>\n",
       "      <th>3</th>\n",
       "      <td>201611111</td>\n",
       "      <td>다니엘</td>\n",
       "      <td>컴퓨터공학</td>\n",
       "      <td>17</td>\n",
       "      <td>18</td>\n",
       "    </tr>\n",
       "    <tr>\n",
       "      <th>4</th>\n",
       "      <td>201722222</td>\n",
       "      <td>지민</td>\n",
       "      <td>컴퓨터공학</td>\n",
       "      <td>18</td>\n",
       "      <td>16</td>\n",
       "    </tr>\n",
       "  </tbody>\n",
       "</table>\n",
       "</div>"
      ],
      "text/plain": [
       "          학번   이름     학과  Quiz  중간고사\n",
       "0  201524213  오지환   경영정보    15    20\n",
       "1  201621223  박용택   경영정보    20    20\n",
       "2  201621233  정성훈   경영정보    10    15\n",
       "3  201611111  다니엘  컴퓨터공학    17    18\n",
       "4  201722222   지민  컴퓨터공학    18    16"
      ]
     },
     "execution_count": 2,
     "metadata": {},
     "output_type": "execute_result"
    }
   ],
   "source": [
    "score={'학번':[201524213,201621223,201621233, 201611111, 201722222],\n",
    "       '이름':['오지환','박용택','정성훈', '다니엘', '지민'],\n",
    "       '학과':['경영정보','경영정보','경영정보','컴퓨터공학','컴퓨터공학'],\n",
    "       'Quiz':[15,20,10,17,18],\n",
    "       '중간고사':[20,20,15,18,16]}\n",
    "# []로 리스트를 만들어 주고 {}딕셔너리 생성\n",
    "df= pd.DataFrame(score) #df라는 데이터 프레임 생성\n",
    "df"
   ]
  },
  {
   "cell_type": "code",
   "execution_count": 3,
   "metadata": {},
   "outputs": [
    {
     "data": {
      "text/plain": [
       "0    201524213\n",
       "1    201621223\n",
       "2    201621233\n",
       "3    201611111\n",
       "4    201722222\n",
       "Name: 학번, dtype: int64"
      ]
     },
     "execution_count": 3,
     "metadata": {},
     "output_type": "execute_result"
    }
   ],
   "source": [
    "df['학번'] #df에서 학번 리스트 안의 내용 추출"
   ]
  },
  {
   "cell_type": "markdown",
   "metadata": {},
   "source": [
    "2. 위에서 생성한 데이터프레임으로부터 인덱싱을 이용하여 이름과 중간고사를 추출하시오."
   ]
  },
  {
   "cell_type": "code",
   "execution_count": 4,
   "metadata": {},
   "outputs": [
    {
     "data": {
      "text/html": [
       "<div>\n",
       "<style scoped>\n",
       "    .dataframe tbody tr th:only-of-type {\n",
       "        vertical-align: middle;\n",
       "    }\n",
       "\n",
       "    .dataframe tbody tr th {\n",
       "        vertical-align: top;\n",
       "    }\n",
       "\n",
       "    .dataframe thead th {\n",
       "        text-align: right;\n",
       "    }\n",
       "</style>\n",
       "<table border=\"1\" class=\"dataframe\">\n",
       "  <thead>\n",
       "    <tr style=\"text-align: right;\">\n",
       "      <th></th>\n",
       "      <th>이름</th>\n",
       "      <th>중간고사</th>\n",
       "    </tr>\n",
       "  </thead>\n",
       "  <tbody>\n",
       "    <tr>\n",
       "      <th>0</th>\n",
       "      <td>오지환</td>\n",
       "      <td>20</td>\n",
       "    </tr>\n",
       "    <tr>\n",
       "      <th>1</th>\n",
       "      <td>박용택</td>\n",
       "      <td>20</td>\n",
       "    </tr>\n",
       "    <tr>\n",
       "      <th>2</th>\n",
       "      <td>정성훈</td>\n",
       "      <td>15</td>\n",
       "    </tr>\n",
       "    <tr>\n",
       "      <th>3</th>\n",
       "      <td>다니엘</td>\n",
       "      <td>18</td>\n",
       "    </tr>\n",
       "    <tr>\n",
       "      <th>4</th>\n",
       "      <td>지민</td>\n",
       "      <td>16</td>\n",
       "    </tr>\n",
       "  </tbody>\n",
       "</table>\n",
       "</div>"
      ],
      "text/plain": [
       "    이름  중간고사\n",
       "0  오지환    20\n",
       "1  박용택    20\n",
       "2  정성훈    15\n",
       "3  다니엘    18\n",
       "4   지민    16"
      ]
     },
     "execution_count": 4,
     "metadata": {},
     "output_type": "execute_result"
    }
   ],
   "source": [
    "df[['이름', '중간고사']] #df에서 이름과 중간고사를 표로 추출"
   ]
  },
  {
   "cell_type": "markdown",
   "metadata": {},
   "source": [
    "3. reindex를 이용하여 2, 0, 4, 1, 3 순으로 순서를 변경하시오."
   ]
  },
  {
   "cell_type": "code",
   "execution_count": 5,
   "metadata": {},
   "outputs": [],
   "source": [
    "df = df.reindex([2, 0, 4, 1, 3]) #reindex는 재색인으로 index를 변경하고  싶을때 쓴다, row column전부 변경가능"
   ]
  },
  {
   "cell_type": "markdown",
   "metadata": {},
   "source": [
    "4. iloc과 loc을 각각 이용하여 박용택 학생의 record를 추출하시오. (iloc으로 한번, loc으로 한번 수행)"
   ]
  },
  {
   "cell_type": "code",
   "execution_count": 6,
   "metadata": {},
   "outputs": [
    {
     "name": "stdout",
     "output_type": "stream",
     "text": [
      "학번      201621223\n",
      "이름            박용택\n",
      "학과           경영정보\n",
      "Quiz           20\n",
      "중간고사           20\n",
      "Name: 1, dtype: object\n",
      "학번      201621223\n",
      "이름            박용택\n",
      "학과           경영정보\n",
      "Quiz           20\n",
      "중간고사           20\n",
      "Name: 1, dtype: object\n"
     ]
    }
   ],
   "source": [
    "print(df.iloc[3]) #iloc[position] : 위치 정수 기반 인덱싱, [3]은 0부터 시작하므로 4번째 순서에 있는 박용택의 정보가 나타남\n",
    "print(df.loc[1])#.loc[lable]: lable기반 인덱싱, 라벨 1이 박용택이므로 박용택의 정보가 추출됨. "
   ]
  },
  {
   "cell_type": "markdown",
   "metadata": {},
   "source": [
    "5. iloc과 loc을 각각 이용하여 모든 학생의 이름과 중간고사 점수를 추출하시오. (iloc으로 한번, loc으로 한번 수행)"
   ]
  },
  {
   "cell_type": "code",
   "execution_count": 7,
   "metadata": {},
   "outputs": [
    {
     "name": "stdout",
     "output_type": "stream",
     "text": [
      "    이름  중간고사\n",
      "2  정성훈    15\n",
      "0  오지환    20\n",
      "4   지민    16\n",
      "1  박용택    20\n",
      "3  다니엘    18\n",
      "    이름  중간고사\n",
      "2  정성훈    15\n",
      "0  오지환    20\n",
      "4   지민    16\n",
      "1  박용택    20\n",
      "3  다니엘    18\n"
     ]
    }
   ],
   "source": [
    "print(df.iloc[:, [1, 4]]) # 행 전체중에 1번째와 4번째 열 추출\n",
    "print(df.loc[:, ['이름', '중간고사']]) # 행 전체중에 이름과 중간고사 열 추출"
   ]
  },
  {
   "cell_type": "markdown",
   "metadata": {},
   "source": [
    "6. 중간고사 점수의 평균을 구하시오."
   ]
  },
  {
   "cell_type": "code",
   "execution_count": 8,
   "metadata": {},
   "outputs": [
    {
     "data": {
      "text/plain": [
       "17.8"
      ]
     },
     "execution_count": 8,
     "metadata": {},
     "output_type": "execute_result"
    }
   ],
   "source": [
    "df['중간고사'].mean() #중간고사 열의 평균을 구합니다."
   ]
  },
  {
   "cell_type": "markdown",
   "metadata": {},
   "source": [
    "7. 중간고사 점수가 가장 낮은 학생의 index를 구하시오."
   ]
  },
  {
   "cell_type": "code",
   "execution_count": 9,
   "metadata": {},
   "outputs": [
    {
     "data": {
      "text/plain": [
       "2"
      ]
     },
     "execution_count": 9,
     "metadata": {},
     "output_type": "execute_result"
    }
   ],
   "source": [
    "df['중간고사'].idxmin() #idxmin : 최소값을 가지는 index레이블을 추출한다."
   ]
  },
  {
   "cell_type": "markdown",
   "metadata": {},
   "source": [
    "8. 퀴즈 점수가 가장 높은 학생의 학번을 구하시오."
   ]
  },
  {
   "cell_type": "code",
   "execution_count": 10,
   "metadata": {},
   "outputs": [
    {
     "data": {
      "text/plain": [
       "201621223"
      ]
     },
     "execution_count": 10,
     "metadata": {},
     "output_type": "execute_result"
    }
   ],
   "source": [
    "df.loc[df['Quiz'].idxmax(), '학번']\n",
    "#df.loc[df['Quiz'].idxmax()]['학번'] quoz중에 최소값을 가지는 학번 추출한다."
   ]
  },
  {
   "cell_type": "markdown",
   "metadata": {},
   "source": [
    "9. 위 데이터프레임의 각 열에 대해서 개수, 평균, 표준편차, 최소최대값 등의 다양한 통계량을 출력하시오.\n"
   ]
  },
  {
   "cell_type": "code",
   "execution_count": 11,
   "metadata": {},
   "outputs": [
    {
     "data": {
      "text/html": [
       "<div>\n",
       "<style scoped>\n",
       "    .dataframe tbody tr th:only-of-type {\n",
       "        vertical-align: middle;\n",
       "    }\n",
       "\n",
       "    .dataframe tbody tr th {\n",
       "        vertical-align: top;\n",
       "    }\n",
       "\n",
       "    .dataframe thead th {\n",
       "        text-align: right;\n",
       "    }\n",
       "</style>\n",
       "<table border=\"1\" class=\"dataframe\">\n",
       "  <thead>\n",
       "    <tr style=\"text-align: right;\">\n",
       "      <th></th>\n",
       "      <th>학번</th>\n",
       "      <th>Quiz</th>\n",
       "      <th>중간고사</th>\n",
       "    </tr>\n",
       "  </thead>\n",
       "  <tbody>\n",
       "    <tr>\n",
       "      <th>count</th>\n",
       "      <td>5.000000e+00</td>\n",
       "      <td>5.000000</td>\n",
       "      <td>5.000000</td>\n",
       "    </tr>\n",
       "    <tr>\n",
       "      <th>mean</th>\n",
       "      <td>2.016200e+08</td>\n",
       "      <td>16.000000</td>\n",
       "      <td>17.800000</td>\n",
       "    </tr>\n",
       "    <tr>\n",
       "      <th>std</th>\n",
       "      <td>7.018995e+04</td>\n",
       "      <td>3.807887</td>\n",
       "      <td>2.280351</td>\n",
       "    </tr>\n",
       "    <tr>\n",
       "      <th>min</th>\n",
       "      <td>2.015242e+08</td>\n",
       "      <td>10.000000</td>\n",
       "      <td>15.000000</td>\n",
       "    </tr>\n",
       "    <tr>\n",
       "      <th>25%</th>\n",
       "      <td>2.016111e+08</td>\n",
       "      <td>15.000000</td>\n",
       "      <td>16.000000</td>\n",
       "    </tr>\n",
       "    <tr>\n",
       "      <th>50%</th>\n",
       "      <td>2.016212e+08</td>\n",
       "      <td>17.000000</td>\n",
       "      <td>18.000000</td>\n",
       "    </tr>\n",
       "    <tr>\n",
       "      <th>75%</th>\n",
       "      <td>2.016212e+08</td>\n",
       "      <td>18.000000</td>\n",
       "      <td>20.000000</td>\n",
       "    </tr>\n",
       "    <tr>\n",
       "      <th>max</th>\n",
       "      <td>2.017222e+08</td>\n",
       "      <td>20.000000</td>\n",
       "      <td>20.000000</td>\n",
       "    </tr>\n",
       "  </tbody>\n",
       "</table>\n",
       "</div>"
      ],
      "text/plain": [
       "                 학번       Quiz       중간고사\n",
       "count  5.000000e+00   5.000000   5.000000\n",
       "mean   2.016200e+08  16.000000  17.800000\n",
       "std    7.018995e+04   3.807887   2.280351\n",
       "min    2.015242e+08  10.000000  15.000000\n",
       "25%    2.016111e+08  15.000000  16.000000\n",
       "50%    2.016212e+08  17.000000  18.000000\n",
       "75%    2.016212e+08  18.000000  20.000000\n",
       "max    2.017222e+08  20.000000  20.000000"
      ]
     },
     "execution_count": 11,
     "metadata": {},
     "output_type": "execute_result"
    }
   ],
   "source": [
    "df.describe() # 기술 통계량 출력"
   ]
  },
  {
   "cell_type": "markdown",
   "metadata": {},
   "source": [
    "10. 위 데이터프레임을 중간고사 점수에 따라 내림차순으로 정렬하시오."
   ]
  },
  {
   "cell_type": "code",
   "execution_count": 12,
   "metadata": {},
   "outputs": [
    {
     "data": {
      "text/html": [
       "<div>\n",
       "<style scoped>\n",
       "    .dataframe tbody tr th:only-of-type {\n",
       "        vertical-align: middle;\n",
       "    }\n",
       "\n",
       "    .dataframe tbody tr th {\n",
       "        vertical-align: top;\n",
       "    }\n",
       "\n",
       "    .dataframe thead th {\n",
       "        text-align: right;\n",
       "    }\n",
       "</style>\n",
       "<table border=\"1\" class=\"dataframe\">\n",
       "  <thead>\n",
       "    <tr style=\"text-align: right;\">\n",
       "      <th></th>\n",
       "      <th>학번</th>\n",
       "      <th>이름</th>\n",
       "      <th>학과</th>\n",
       "      <th>Quiz</th>\n",
       "      <th>중간고사</th>\n",
       "    </tr>\n",
       "  </thead>\n",
       "  <tbody>\n",
       "    <tr>\n",
       "      <th>0</th>\n",
       "      <td>201524213</td>\n",
       "      <td>오지환</td>\n",
       "      <td>경영정보</td>\n",
       "      <td>15</td>\n",
       "      <td>20</td>\n",
       "    </tr>\n",
       "    <tr>\n",
       "      <th>1</th>\n",
       "      <td>201621223</td>\n",
       "      <td>박용택</td>\n",
       "      <td>경영정보</td>\n",
       "      <td>20</td>\n",
       "      <td>20</td>\n",
       "    </tr>\n",
       "    <tr>\n",
       "      <th>3</th>\n",
       "      <td>201611111</td>\n",
       "      <td>다니엘</td>\n",
       "      <td>컴퓨터공학</td>\n",
       "      <td>17</td>\n",
       "      <td>18</td>\n",
       "    </tr>\n",
       "    <tr>\n",
       "      <th>4</th>\n",
       "      <td>201722222</td>\n",
       "      <td>지민</td>\n",
       "      <td>컴퓨터공학</td>\n",
       "      <td>18</td>\n",
       "      <td>16</td>\n",
       "    </tr>\n",
       "    <tr>\n",
       "      <th>2</th>\n",
       "      <td>201621233</td>\n",
       "      <td>정성훈</td>\n",
       "      <td>경영정보</td>\n",
       "      <td>10</td>\n",
       "      <td>15</td>\n",
       "    </tr>\n",
       "  </tbody>\n",
       "</table>\n",
       "</div>"
      ],
      "text/plain": [
       "          학번   이름     학과  Quiz  중간고사\n",
       "0  201524213  오지환   경영정보    15    20\n",
       "1  201621223  박용택   경영정보    20    20\n",
       "3  201611111  다니엘  컴퓨터공학    17    18\n",
       "4  201722222   지민  컴퓨터공학    18    16\n",
       "2  201621233  정성훈   경영정보    10    15"
      ]
     },
     "execution_count": 12,
     "metadata": {},
     "output_type": "execute_result"
    }
   ],
   "source": [
    "df.sort_values('중간고사', ascending=False) #DataFrame.sort_value():내림차순 정리, 중간고사 기준, ascending(오름차순)=false"
   ]
  },
  {
   "cell_type": "markdown",
   "metadata": {},
   "source": [
    "11. 학생 중에서 퀴즈 점수가 평균 이상인 학생들의 이름을 출력하시오."
   ]
  },
  {
   "cell_type": "code",
   "execution_count": 13,
   "metadata": {},
   "outputs": [
    {
     "data": {
      "text/plain": [
       "4     지민\n",
       "1    박용택\n",
       "3    다니엘\n",
       "Name: 이름, dtype: object"
      ]
     },
     "execution_count": 13,
     "metadata": {},
     "output_type": "execute_result"
    }
   ],
   "source": [
    "quiz_mean = df['Quiz'].mean() #quiz_mean에 dataframe에 이전 dataframe의 평균을 구한것을 할당.\n",
    "df[df['Quiz'] > quiz_mean]['이름'] #평균보다 quiz점수가 높으면 이름 추출."
   ]
  },
  {
   "cell_type": "markdown",
   "metadata": {},
   "source": [
    "12. 학생 중에서 퀴즈와 중간고사 점수 모두 평균 이상인 학생들의 record를 출력하시오."
   ]
  },
  {
   "cell_type": "code",
   "execution_count": 14,
   "metadata": {},
   "outputs": [
    {
     "data": {
      "text/html": [
       "<div>\n",
       "<style scoped>\n",
       "    .dataframe tbody tr th:only-of-type {\n",
       "        vertical-align: middle;\n",
       "    }\n",
       "\n",
       "    .dataframe tbody tr th {\n",
       "        vertical-align: top;\n",
       "    }\n",
       "\n",
       "    .dataframe thead th {\n",
       "        text-align: right;\n",
       "    }\n",
       "</style>\n",
       "<table border=\"1\" class=\"dataframe\">\n",
       "  <thead>\n",
       "    <tr style=\"text-align: right;\">\n",
       "      <th></th>\n",
       "      <th>학번</th>\n",
       "      <th>이름</th>\n",
       "      <th>학과</th>\n",
       "      <th>Quiz</th>\n",
       "      <th>중간고사</th>\n",
       "    </tr>\n",
       "  </thead>\n",
       "  <tbody>\n",
       "    <tr>\n",
       "      <th>1</th>\n",
       "      <td>201621223</td>\n",
       "      <td>박용택</td>\n",
       "      <td>경영정보</td>\n",
       "      <td>20</td>\n",
       "      <td>20</td>\n",
       "    </tr>\n",
       "    <tr>\n",
       "      <th>3</th>\n",
       "      <td>201611111</td>\n",
       "      <td>다니엘</td>\n",
       "      <td>컴퓨터공학</td>\n",
       "      <td>17</td>\n",
       "      <td>18</td>\n",
       "    </tr>\n",
       "  </tbody>\n",
       "</table>\n",
       "</div>"
      ],
      "text/plain": [
       "          학번   이름     학과  Quiz  중간고사\n",
       "1  201621223  박용택   경영정보    20    20\n",
       "3  201611111  다니엘  컴퓨터공학    17    18"
      ]
     },
     "execution_count": 14,
     "metadata": {},
     "output_type": "execute_result"
    }
   ],
   "source": [
    "quiz_mean = df['Quiz'].mean() #퀴즈 평균\n",
    "mid_mean = df['중간고사'].mean() # 중간고사 평균\n",
    "df[(df['Quiz'] > quiz_mean) & (df['중간고사'] > mid_mean)] #퀴즈 &(and) 중간고사가 두개다 평균이상인것만 추출."
   ]
  },
  {
   "cell_type": "markdown",
   "metadata": {},
   "source": [
    "13. value_counts를 이용하여 학과 별로 학생의 수를 구하시오."
   ]
  },
  {
   "cell_type": "code",
   "execution_count": 15,
   "metadata": {},
   "outputs": [
    {
     "data": {
      "text/plain": [
       "경영정보     3\n",
       "컴퓨터공학    2\n",
       "Name: 학과, dtype: int64"
      ]
     },
     "execution_count": 15,
     "metadata": {},
     "output_type": "execute_result"
    }
   ],
   "source": [
    "df['학과'].value_counts() #학과 value가 몇개 있는지 추출"
   ]
  },
  {
   "cell_type": "markdown",
   "metadata": {},
   "source": [
    "14. groupby를 이용하여 학과 별로 중간고사의 평균을 구하시오."
   ]
  },
  {
   "cell_type": "code",
   "execution_count": 16,
   "metadata": {},
   "outputs": [
    {
     "data": {
      "text/plain": [
       "학과\n",
       "경영정보     18.333333\n",
       "컴퓨터공학    17.000000\n",
       "Name: 중간고사, dtype: float64"
      ]
     },
     "execution_count": 16,
     "metadata": {},
     "output_type": "execute_result"
    }
   ],
   "source": [
    "df.groupby('학과')['중간고사'].mean() #group by: 특정컬럼을 그룹화함. .mean을 썼기 때문에 학과별 중간고사 평균을 그룹화한다."
   ]
  },
  {
   "cell_type": "code",
   "execution_count": 17,
   "metadata": {},
   "outputs": [
    {
     "data": {
      "text/plain": [
       "학번      201620000.4\n",
       "Quiz           16.0\n",
       "중간고사           17.8\n",
       "dtype: float64"
      ]
     },
     "execution_count": 17,
     "metadata": {},
     "output_type": "execute_result"
    }
   ],
   "source": [
    "df.mean() #dataframe 평균."
   ]
  },
  {
   "cell_type": "code",
   "execution_count": 18,
   "metadata": {},
   "outputs": [
    {
     "data": {
      "text/plain": [
       "[('경영정보',\n",
       "            학번   이름    학과  Quiz  중간고사\n",
       "  2  201621233  정성훈  경영정보    10    15\n",
       "  0  201524213  오지환  경영정보    15    20\n",
       "  1  201621223  박용택  경영정보    20    20),\n",
       " ('컴퓨터공학',\n",
       "            학번   이름     학과  Quiz  중간고사\n",
       "  4  201722222   지민  컴퓨터공학    18    16\n",
       "  3  201611111  다니엘  컴퓨터공학    17    18)]"
      ]
     },
     "execution_count": 18,
     "metadata": {},
     "output_type": "execute_result"
    }
   ],
   "source": [
    "list(df.groupby('학과')) #dataframe을 학과별로 그룹화"
   ]
  },
  {
   "cell_type": "markdown",
   "metadata": {},
   "source": [
    "\n",
    "\n"
   ]
  },
  {
   "cell_type": "markdown",
   "metadata": {},
   "source": [
    "  "
   ]
  },
  {
   "cell_type": "markdown",
   "metadata": {},
   "source": [
    "  "
   ]
  },
  {
   "cell_type": "markdown",
   "metadata": {},
   "source": [
    "  "
   ]
  },
  {
   "cell_type": "markdown",
   "metadata": {},
   "source": [
    "  "
   ]
  },
  {
   "cell_type": "markdown",
   "metadata": {},
   "source": [
    "## Numpy 기초연습문제"
   ]
  },
  {
   "cell_type": "code",
   "execution_count": 19,
   "metadata": {},
   "outputs": [],
   "source": [
    "import numpy as np #import 함수로 numpy불러오기"
   ]
  },
  {
   "cell_type": "markdown",
   "metadata": {},
   "source": [
    "1. np.zeros를 이용하여 행이 3, 열이 4인 ndarray를 생성하시오. 이 때 생성된 ndarray의 이름은 a가 되도록 한다."
   ]
  },
  {
   "cell_type": "code",
   "execution_count": 20,
   "metadata": {},
   "outputs": [
    {
     "data": {
      "text/plain": [
       "array([[0., 0., 0., 0.],\n",
       "       [0., 0., 0., 0.],\n",
       "       [0., 0., 0., 0.]])"
      ]
     },
     "execution_count": 20,
     "metadata": {},
     "output_type": "execute_result"
    }
   ],
   "source": [
    "a = np.zeros((3, 4)) \n",
    "# numpy 배열을 만드는 방법 :zeros()는 해당 배열에 모두 0을 집어 넣는다. (행,열) \n",
    "# np.zeros()함수는 괄호 안에 쓴 숫자 개수만큼의 '0' 공간을 만들어 줌\n",
    "\n",
    "a"
   ]
  },
  {
   "cell_type": "markdown",
   "metadata": {},
   "source": [
    "2. 위에서 생성한 ndarray a에 대하여, 다중 for 문을 이용하여 아래와 같은 값을 갖도록 초기화하시오."
   ]
  },
  {
   "cell_type": "code",
   "execution_count": 21,
   "metadata": {},
   "outputs": [
    {
     "data": {
      "text/plain": [
       "array([[ 1.,  2.,  3.,  4.],\n",
       "       [ 5.,  6.,  7.,  8.],\n",
       "       [ 9., 10., 11., 12.]])"
      ]
     },
     "execution_count": 21,
     "metadata": {},
     "output_type": "execute_result"
    }
   ],
   "source": [
    "for i in range(a.shape[0]):#numpy.shape(): 배열의 크기를 알려준다. a.shape[0]=3 -->행\n",
    "    for j in range(a.shape[1]): #numpy.shape[1]=4-->열\n",
    "        \n",
    "        a[i, j] = i*4 + j + 1 #i는 4씩 곱해지며 j는 1씩 더해지는 리스트 구성.\n",
    "a"
   ]
  },
  {
   "cell_type": "code",
   "execution_count": 22,
   "metadata": {},
   "outputs": [
    {
     "data": {
      "text/plain": [
       "array([[ 1.,  2.,  3.,  4.],\n",
       "       [ 5.,  6.,  7.,  8.],\n",
       "       [ 9., 10., 11., 12.]])"
      ]
     },
     "execution_count": 22,
     "metadata": {},
     "output_type": "execute_result"
    }
   ],
   "source": [
    "num = 1\n",
    "for i in range(a.shape[0]):\n",
    "    for j in range(a.shape[1]):\n",
    "        a[i, j] =  num\n",
    "        num += 1 # 위와 같다만 num은 1을 배정해줌으로써 1부터 +1씩 반복되게 만들어놓음.\n",
    "a"
   ]
  },
  {
   "cell_type": "markdown",
   "metadata": {},
   "source": [
    "3. 초기화한 a로부터 값 7을 꺼내도록 인덱싱하시오"
   ]
  },
  {
   "cell_type": "code",
   "execution_count": 23,
   "metadata": {},
   "outputs": [
    {
     "data": {
      "text/plain": [
       "7.0"
      ]
     },
     "execution_count": 23,
     "metadata": {},
     "output_type": "execute_result"
    }
   ],
   "source": [
    "a[1, 2] # 0부터 순서가 시작하기 때문에 1 콤마 2임"
   ]
  },
  {
   "cell_type": "markdown",
   "metadata": {},
   "source": [
    "4. a에서 아래와 같이 둘째 행을 꺼내도록 인덱싱하시오. 단 차원이 유지되어야 한다."
   ]
  },
  {
   "cell_type": "markdown",
   "metadata": {},
   "source": [
    "array([[5., 6., 7., 8.]])"
   ]
  },
  {
   "cell_type": "code",
   "execution_count": 24,
   "metadata": {},
   "outputs": [
    {
     "data": {
      "text/plain": [
       "(3, 4)"
      ]
     },
     "execution_count": 24,
     "metadata": {},
     "output_type": "execute_result"
    }
   ],
   "source": [
    "a.shape #shape 행열(차원)확인,다차원 배열의 차원과 그룹 안의 원소들의 크기를 확인할 때 array.shape 함수를 사용"
   ]
  },
  {
   "cell_type": "code",
   "execution_count": 25,
   "metadata": {},
   "outputs": [
    {
     "data": {
      "text/plain": [
       "array([[5., 6., 7., 8.]])"
      ]
     },
     "execution_count": 25,
     "metadata": {},
     "output_type": "execute_result"
    }
   ],
   "source": [
    "a[[1], :] #둘째 행 전체 출력, shape에 indexing 을 적용하면 차원, 원소 크기를 각 각 선택해서 반환"
   ]
  },
  {
   "cell_type": "markdown",
   "metadata": {},
   "source": [
    "5. a에서 아래와 같이 둘째 열과 셋째 열이 나오도록 인덱싱하시오.\n",
    "    \n",
    "    array([[ 2.,  3.],\n",
    "       [ 6.,  7.],\n",
    "       [10., 11.]])"
   ]
  },
  {
   "cell_type": "code",
   "execution_count": 36,
   "metadata": {},
   "outputs": [
    {
     "data": {
      "text/plain": [
       "array([[ 2.,  3.],\n",
       "       [ 6.,  7.],\n",
       "       [10., 11.]])"
      ]
     },
     "execution_count": 36,
     "metadata": {},
     "output_type": "execute_result"
    }
   ],
   "source": [
    "a[:,[1, 2]] # 둘째열과 셋째열 행 전체 출력"
   ]
  },
  {
   "cell_type": "markdown",
   "metadata": {},
   "source": [
    "6. 아래와 같이 a에서 6보다 작거나 같은 값들이 나오도록 불리안 인덱싱을 하시오.\n",
    "\n",
    "array([1., 2., 3., 4., 5., 6.])"
   ]
  },
  {
   "cell_type": "code",
   "execution_count": 27,
   "metadata": {},
   "outputs": [
    {
     "data": {
      "text/plain": [
       "array([1., 2., 3., 4., 5., 6.])"
      ]
     },
     "execution_count": 27,
     "metadata": {},
     "output_type": "execute_result"
    }
   ],
   "source": [
    "result = np.asarray([a[i, j] for i in range(a.shape[0]) for  j in range(a.shape[1]) if a[i, j] <= 6]) \n",
    "# NumPy (Numerical Python)로 ndarray :fast, 공간 효율적 벡터 연산가능 다차원 배열을 만들 수 있다. 그중 하나가 array들.\n",
    "# asarray나 array나 비슷한데, 차이가 있다면 array는 copy=true가 기본이고, asarray는 copy=false가 기본이다 = 옵션을 명시하지 않으면 array는 복사본을 만들어서 저장하고, asarray는 복사본없이 저장\n",
    "result"
   ]
  },
  {
   "cell_type": "code",
   "execution_count": 28,
   "metadata": {},
   "outputs": [
    {
     "data": {
      "text/plain": [
       "array([1., 2., 3., 4., 5., 6.])"
      ]
     },
     "execution_count": 28,
     "metadata": {},
     "output_type": "execute_result"
    }
   ],
   "source": [
    "a[a <= 6]"
   ]
  },
  {
   "cell_type": "markdown",
   "metadata": {},
   "source": [
    "7. np.random 패키지를 이용하여 0에서 1사이의 값이 무작위로 생성된, 행이 3 열이 4인 ndarray를 생성하시오. 이 때 생성된 ndarray의 이름은 b가 되도록 한다."
   ]
  },
  {
   "cell_type": "code",
   "execution_count": 29,
   "metadata": {},
   "outputs": [
    {
     "data": {
      "text/plain": [
       "array([[0.18833947, 0.75267658, 0.40499979, 0.50900718],\n",
       "       [0.16817349, 0.31502725, 0.39909452, 0.53428974],\n",
       "       [0.09404418, 0.6292535 , 0.99071503, 0.55425376]])"
      ]
     },
     "execution_count": 29,
     "metadata": {},
     "output_type": "execute_result"
    }
   ],
   "source": [
    "b = np.random.random((3, 4)) #.random함수 : 0이상 1미만함수를 무작위로 돌려줌. (행, 열)\n",
    "b"
   ]
  },
  {
   "cell_type": "markdown",
   "metadata": {},
   "source": [
    "8. a와 b의 요소곱을 하여 c에 저장하시오."
   ]
  },
  {
   "cell_type": "code",
   "execution_count": 30,
   "metadata": {},
   "outputs": [
    {
     "data": {
      "text/plain": [
       "array([[ 0.18833947,  1.50535316,  1.21499937,  2.03602874],\n",
       "       [ 0.84086747,  1.89016351,  2.79366162,  4.27431794],\n",
       "       [ 0.84639761,  6.29253502, 10.89786528,  6.65104509]])"
      ]
     },
     "execution_count": 30,
     "metadata": {},
     "output_type": "execute_result"
    }
   ],
   "source": [
    "c = a * b\n",
    "c"
   ]
  },
  {
   "cell_type": "markdown",
   "metadata": {},
   "source": [
    "9. b의 전치행렬을 구하여 d에 저장하시오."
   ]
  },
  {
   "cell_type": "code",
   "execution_count": 31,
   "metadata": {},
   "outputs": [
    {
     "data": {
      "text/plain": [
       "array([[0.18833947, 0.16817349, 0.09404418],\n",
       "       [0.75267658, 0.31502725, 0.6292535 ],\n",
       "       [0.40499979, 0.39909452, 0.99071503],\n",
       "       [0.50900718, 0.53428974, 0.55425376]])"
      ]
     },
     "execution_count": 31,
     "metadata": {},
     "output_type": "execute_result"
    }
   ],
   "source": [
    "d = b.T #.T :행과 열을 바꾸기\n",
    "d"
   ]
  },
  {
   "cell_type": "code",
   "execution_count": 32,
   "metadata": {},
   "outputs": [
    {
     "data": {
      "text/plain": [
       "(4, 3)"
      ]
     },
     "execution_count": 32,
     "metadata": {},
     "output_type": "execute_result"
    }
   ],
   "source": [
    "d.shape # .shape: 차원의 크기를 알려줌 (4개의 행 3개의 열)"
   ]
  },
  {
   "cell_type": "markdown",
   "metadata": {},
   "source": [
    "10. a와 d에 대하여 각 차원의 크기를 출력하시오.\n"
   ]
  },
  {
   "cell_type": "code",
   "execution_count": 33,
   "metadata": {},
   "outputs": [
    {
     "name": "stdout",
     "output_type": "stream",
     "text": [
      "(3, 4) (4, 3)\n"
     ]
    }
   ],
   "source": [
    "print(a.shape, d.shape)"
   ]
  },
  {
   "cell_type": "markdown",
   "metadata": {},
   "source": [
    "11. a와 d의 행렬곱을 계산하여 e에 저장하시오."
   ]
  },
  {
   "cell_type": "code",
   "execution_count": 34,
   "metadata": {},
   "outputs": [
    {
     "data": {
      "text/plain": [
       "array([[ 4.94472075,  4.13267052,  6.54171129],\n",
       "       [12.36481286,  9.79901053, 15.61477715],\n",
       "       [19.78490498, 15.46535055, 24.687843  ]])"
      ]
     },
     "execution_count": 34,
     "metadata": {},
     "output_type": "execute_result"
    }
   ],
   "source": [
    "e = a.dot(d) #.dot : numpy array를 곱할때 사용\n",
    "e"
   ]
  },
  {
   "cell_type": "markdown",
   "metadata": {},
   "source": [
    "12. e에 대하여 각 열의 합을 계산하시오."
   ]
  },
  {
   "cell_type": "code",
   "execution_count": 35,
   "metadata": {},
   "outputs": [
    {
     "data": {
      "text/plain": [
       "array([15.61910255, 37.77860054, 59.93809853])"
      ]
     },
     "execution_count": 35,
     "metadata": {},
     "output_type": "execute_result"
    }
   ],
   "source": [
    "np.sum(e, axis=1) #,sum= 합"
   ]
  }
 ],
 "metadata": {
  "kernelspec": {
   "display_name": "Python 3",
   "language": "python",
   "name": "python3"
  },
  "language_info": {
   "codemirror_mode": {
    "name": "ipython",
    "version": 3
   },
   "file_extension": ".py",
   "mimetype": "text/x-python",
   "name": "python",
   "nbconvert_exporter": "python",
   "pygments_lexer": "ipython3",
   "version": "3.8.3"
  }
 },
 "nbformat": 4,
 "nbformat_minor": 4
}
